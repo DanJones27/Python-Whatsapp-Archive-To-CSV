{
 "cells": [
  {
   "cell_type": "code",
   "execution_count": 1,
   "metadata": {},
   "outputs": [],
   "source": [
    "path = \"/Users/danieljones/Documents/Data_for_projects/Whatsapp_Data.txt\""
   ]
  },
  {
   "cell_type": "markdown",
   "metadata": {},
   "source": [
    "- For each line:\n",
    "    - If line starts with a date then we know it is the start of a message\n",
    "        - But we should ignore things like \"X was added to the group\" or \"X changed the subject to Y\"\n",
    "    - Otherwise it should be appended to the previous message"
   ]
  },
  {
   "cell_type": "code",
   "execution_count": 2,
   "metadata": {},
   "outputs": [],
   "source": [
    "import datetime\n",
    "import pandas as pd"
   ]
  },
  {
   "cell_type": "markdown",
   "metadata": {},
   "source": [
    "### Checking how to write the date format"
   ]
  },
  {
   "cell_type": "code",
   "execution_count": 3,
   "metadata": {
    "scrolled": true
   },
   "outputs": [
    {
     "data": {
      "text/plain": [
       "'[05/08/2020, 18:46:52]'"
      ]
     },
     "execution_count": 3,
     "metadata": {},
     "output_type": "execute_result"
    }
   ],
   "source": [
    "t = datetime.datetime.utcnow()\n",
    "t.strftime(\"[%d/%m/%Y, %H:%M:%S]\")"
   ]
  },
  {
   "cell_type": "code",
   "execution_count": 4,
   "metadata": {},
   "outputs": [],
   "source": [
    "def get_date_from_line(line):\n",
    "    datestr = line[:22]\n",
    "    return datetime.datetime.strptime(datestr, \"[%d/%m/%Y, %H:%M:%S]\")"
   ]
  },
  {
   "cell_type": "code",
   "execution_count": 5,
   "metadata": {
    "scrolled": true
   },
   "outputs": [
    {
     "data": {
      "text/plain": [
       "datetime.datetime(2014, 6, 28, 19, 3, 1)"
      ]
     },
     "execution_count": 5,
     "metadata": {},
     "output_type": "execute_result"
    }
   ],
   "source": [
    "line = \"[28/06/2014, 19:03:01] Tom changed the subject to “Hello everyone\"\n",
    "get_date_from_line(line)"
   ]
  },
  {
   "cell_type": "code",
   "execution_count": 6,
   "metadata": {
    "scrolled": true
   },
   "outputs": [
    {
     "name": "stdout",
     "output_type": "stream",
     "text": [
      "This line failed with a ValueError\n"
     ]
    }
   ],
   "source": [
    "line = \"you eat beans and cheese\"\n",
    "\n",
    "try:\n",
    "    get_date_from_line(line)\n",
    "except ValueError:\n",
    "    print(\"This line failed with a ValueError\")"
   ]
  },
  {
   "cell_type": "markdown",
   "metadata": {},
   "source": [
    "### Append multiple lines together"
   ]
  },
  {
   "cell_type": "code",
   "execution_count": 7,
   "metadata": {},
   "outputs": [
    {
     "data": {
      "text/plain": [
       "'\"[28/06/2014, 19:03:01] Tommy turn changed the subject to “Hideout ”\"\\n'"
      ]
     },
     "execution_count": 7,
     "metadata": {},
     "output_type": "execute_result"
    }
   ],
   "source": [
    "'\"[28/06/2014, 19:03:01] Tommy turn changed the subject to “Hideout ”\"\\n'"
   ]
  },
  {
   "cell_type": "code",
   "execution_count": 8,
   "metadata": {},
   "outputs": [],
   "source": [
    "lines = [\n",
    "    '\"[28/06/2014, 19:03:01] Tom changed the subject to “Hello everyone\"',\n",
    "    '\"[28/06/2014, 19:03:02] Tom changed the subject to “Berko\"',\n",
    "    '\"[28/07/2014, 11:33:30] Tom: Henry how do you eat that? \"',\n",
    "    '\"pasta beans and cheese 3 meals a day\"',\n",
    "    '\"[28/07/2014, 11:33:30] Tom: Dan youre in great health \"',\n",
    "    '\"tuna and rice 3 meals a day\"',\n",
    "]"
   ]
  },
  {
   "cell_type": "code",
   "execution_count": 9,
   "metadata": {},
   "outputs": [],
   "source": [
    "def does_line_start_with_date(line):\n",
    "    try:\n",
    "        get_date_from_line(line)\n",
    "        return True\n",
    "    except ValueError:\n",
    "        return False"
   ]
  },
  {
   "cell_type": "code",
   "execution_count": 10,
   "metadata": {
    "scrolled": true
   },
   "outputs": [
    {
     "name": "stdout",
     "output_type": "stream",
     "text": [
      "True\n",
      "True\n",
      "True\n",
      "False\n",
      "True\n",
      "False\n"
     ]
    }
   ],
   "source": [
    "for line in lines:\n",
    "    print(does_line_start_with_date(line[1:]))"
   ]
  },
  {
   "cell_type": "code",
   "execution_count": 11,
   "metadata": {},
   "outputs": [],
   "source": [
    "def get_combined_lines(lines):\n",
    "    combined_lines = []\n",
    "    combined_line = \"\"\n",
    "    for line in lines:\n",
    "        if does_line_start_with_date(line):\n",
    "            if len(combined_line) > 0:\n",
    "                combined_lines.append(combined_line)\n",
    "                combined_line = \"\"\n",
    "            combined_line = line\n",
    "        else:\n",
    "            combined_line += line\n",
    "    if len(combined_line) > 0:\n",
    "        combined_lines.append(combined_line)\n",
    "    return combined_lines"
   ]
  },
  {
   "cell_type": "code",
   "execution_count": 12,
   "metadata": {
    "scrolled": false
   },
   "outputs": [
    {
     "data": {
      "text/plain": [
       "['\"[28/06/2014, 19:03:01] Tom changed the subject to “Hello everyone\"\"[28/06/2014, 19:03:02] Tom changed the subject to “Berko\"\"[28/07/2014, 11:33:30] Tom: Henry how do you eat that? \"\"pasta beans and cheese 3 meals a day\"\"[28/07/2014, 11:33:30] Tom: Dan youre in great health \"\"tuna and rice 3 meals a day\"']"
      ]
     },
     "execution_count": 12,
     "metadata": {},
     "output_type": "execute_result"
    }
   ],
   "source": [
    "get_combined_lines(lines)"
   ]
  },
  {
   "cell_type": "code",
   "execution_count": 13,
   "metadata": {
    "scrolled": true
   },
   "outputs": [
    {
     "data": {
      "text/plain": [
       "['\"[28/07/2014, 11:33:30] Tom: Dan youre in great health \"\"tuna and rice 3 meals a day\"']"
      ]
     },
     "execution_count": 13,
     "metadata": {},
     "output_type": "execute_result"
    }
   ],
   "source": [
    "get_combined_lines(lines[-2:])"
   ]
  },
  {
   "cell_type": "markdown",
   "metadata": {},
   "source": [
    "### Run on all the data"
   ]
  },
  {
   "cell_type": "code",
   "execution_count": null,
   "metadata": {
    "scrolled": false
   },
   "outputs": [],
   "source": [
    "def load_whatsapp_messages_to_dataframe(path_to_messages):\n",
    "    with open(path_to_messages, \"rt\") as f:\n",
    "        lines = f.readlines()\n",
    "    lines = [line.strip()[1:-1] for line in lines]\n",
    "    combined_lines = get_combined_lines(lines) \n",
    "    processed_lines = []\n",
    "    for line in combined_lines:\n",
    "        try:\n",
    "            processed_lines.append(_split_line_into_components(line))\n",
    "        except ValueError:\n",
    "            print(line)\n",
    "    df = pd.DataFrame(processed_lines, columns=[\"date\", \"time\", \"author\", \"message\"])\n",
    "    return df\n",
    "\n",
    "def _split_line_into_components(line):\n",
    "    \"\"\"\n",
    "    It looks like the lines all follow the exact same structure:\n",
    "    [DD/MM/YYYY, HH:MM:SS] NAME: MESSAGE\n",
    "    \"\"\"\n",
    "    date = line[1:11]\n",
    "    time = line[13:21]\n",
    "    date_and_time = line[1:21]\n",
    "    name, message = line[23:].split(\": \", 1)\n",
    "    message = message.strip()\n",
    "    return date, time, name, message\n",
    "\n",
    "\n",
    "df = load_whatsapp_messages_to_dataframe(path)\n",
    "df.to_csv(\"/Users/danieljones/Documents/Data_for_projects/Whatsapp_Data.txt\", index=False)\n"
   ]
  },
  {
   "cell_type": "code",
   "execution_count": null,
   "metadata": {},
   "outputs": [],
   "source": []
  },
  {
   "cell_type": "code",
   "execution_count": null,
   "metadata": {},
   "outputs": [],
   "source": []
  }
 ],
 "metadata": {
  "kernelspec": {
   "display_name": "Python 3",
   "language": "python",
   "name": "python3"
  },
  "language_info": {
   "codemirror_mode": {
    "name": "ipython",
    "version": 3
   },
   "file_extension": ".py",
   "mimetype": "text/x-python",
   "name": "python",
   "nbconvert_exporter": "python",
   "pygments_lexer": "ipython3",
   "version": "3.7.6"
  }
 },
 "nbformat": 4,
 "nbformat_minor": 4
}
