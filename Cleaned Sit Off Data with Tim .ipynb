{
 "cells": [
  {
   "cell_type": "code",
   "execution_count": 1,
   "metadata": {},
   "outputs": [],
   "source": [
    "path = \"/Users/danieljones/Documents/Codecademy/Data for projects/Sit_Off/Sit Off Whatsapp Data.txt\""
   ]
  },
  {
   "cell_type": "markdown",
   "metadata": {},
   "source": [
    "- For each line:\n",
    "    - If line starts with a date then we know it is the start of a message\n",
    "        - But we should ignore things like \"X was added to the group\" or \"X changed the subject to Y\"\n",
    "    - Otherwise it should be appended to the previous message"
   ]
  },
  {
   "cell_type": "code",
   "execution_count": 2,
   "metadata": {},
   "outputs": [],
   "source": [
    "import datetime\n",
    "import pandas as pd"
   ]
  },
  {
   "cell_type": "markdown",
   "metadata": {},
   "source": [
    "### Check how to write the date format"
   ]
  },
  {
   "cell_type": "code",
   "execution_count": 44,
   "metadata": {
    "scrolled": true
   },
   "outputs": [
    {
     "data": {
      "text/plain": [
       "'[26/07/2020, 14:47:33]'"
      ]
     },
     "execution_count": 44,
     "metadata": {},
     "output_type": "execute_result"
    }
   ],
   "source": [
    "t = datetime.datetime.utcnow()\n",
    "t.strftime(\"[%d/%m/%Y, %H:%M:%S]\")"
   ]
  },
  {
   "cell_type": "code",
   "execution_count": 4,
   "metadata": {},
   "outputs": [],
   "source": [
    "def get_date_from_line(line):\n",
    "    datestr = line[:22]\n",
    "    return datetime.datetime.strptime(datestr, \"[%d/%m/%Y, %H:%M:%S]\")"
   ]
  },
  {
   "cell_type": "code",
   "execution_count": 5,
   "metadata": {
    "scrolled": true
   },
   "outputs": [
    {
     "data": {
      "text/plain": [
       "datetime.datetime(2014, 6, 28, 19, 3, 1)"
      ]
     },
     "execution_count": 5,
     "metadata": {},
     "output_type": "execute_result"
    }
   ],
   "source": [
    "line = \"[28/06/2014, 19:03:01] Tommy turn changed the subject to “Hideout\"\n",
    "get_date_from_line(line)"
   ]
  },
  {
   "cell_type": "code",
   "execution_count": 6,
   "metadata": {
    "scrolled": true
   },
   "outputs": [
    {
     "name": "stdout",
     "output_type": "stream",
     "text": [
      "This line failed with a ValueError\n"
     ]
    }
   ],
   "source": [
    "line = \"you eat beans and cheese\"\n",
    "\n",
    "try:\n",
    "    get_date_from_line(line)\n",
    "except ValueError:\n",
    "    print(\"This line failed with a ValueError\")"
   ]
  },
  {
   "cell_type": "markdown",
   "metadata": {},
   "source": [
    "### Lets understand how to append multiple lines together"
   ]
  },
  {
   "cell_type": "code",
   "execution_count": null,
   "metadata": {},
   "outputs": [],
   "source": [
    "'\"[28/06/2014, 19:03:01] Tommy turn changed the subject to “Hideout ”\"\\n'"
   ]
  },
  {
   "cell_type": "code",
   "execution_count": 20,
   "metadata": {},
   "outputs": [],
   "source": [
    "lines = [\n",
    "    '\"[28/06/2014, 19:03:01] Tommy turn changed the subject to “Hideout\"',\n",
    "    '\"[28/06/2014, 19:03:02] Tommy turn changed the subject to “Creamfields\"',\n",
    "    '\"[28/07/2014, 11:33:30] Tommy turn: Bragg you are in terrible health \"',\n",
    "    '\"You eat pasta beans and cheese 3 meals a day\"',\n",
    "    '\"[28/07/2014, 11:33:30] Tommy turn: Dan you are in great health \"',\n",
    "    '\"You eat tuna and rice 3 meals a day\"',\n",
    "]"
   ]
  },
  {
   "cell_type": "code",
   "execution_count": 21,
   "metadata": {},
   "outputs": [],
   "source": [
    "def does_line_start_with_date(line):\n",
    "    try:\n",
    "        get_date_from_line(line)\n",
    "        return True\n",
    "    except ValueError:\n",
    "        return False"
   ]
  },
  {
   "cell_type": "code",
   "execution_count": 25,
   "metadata": {
    "scrolled": true
   },
   "outputs": [
    {
     "name": "stdout",
     "output_type": "stream",
     "text": [
      "True\n",
      "True\n",
      "True\n",
      "False\n",
      "True\n",
      "False\n"
     ]
    }
   ],
   "source": [
    "for line in lines:\n",
    "    print(does_line_start_with_date(line[1:]))"
   ]
  },
  {
   "cell_type": "code",
   "execution_count": 22,
   "metadata": {},
   "outputs": [],
   "source": [
    "def get_combined_lines(lines):\n",
    "    combined_lines = []\n",
    "    combined_line = \"\"\n",
    "    for line in lines:\n",
    "        if does_line_start_with_date(line):\n",
    "            if len(combined_line) > 0:\n",
    "                combined_lines.append(combined_line)\n",
    "                combined_line = \"\"\n",
    "            combined_line = line\n",
    "        else:\n",
    "            combined_line += line\n",
    "    if len(combined_line) > 0:\n",
    "        combined_lines.append(combined_line)\n",
    "    return combined_lines"
   ]
  },
  {
   "cell_type": "code",
   "execution_count": 23,
   "metadata": {
    "scrolled": false
   },
   "outputs": [
    {
     "data": {
      "text/plain": [
       "['\"[28/06/2014, 19:03:01] Tommy turn changed the subject to “Hideout\"\"[28/06/2014, 19:03:02] Tommy turn changed the subject to “Creamfields\"\"[28/07/2014, 11:33:30] Tommy turn: Bragg you are in terrible health \"\"You eat pasta beans and cheese 3 meals a day\"\"[28/07/2014, 11:33:30] Tommy turn: Dan you are in great health \"\"You eat tuna and rice 3 meals a day\"']"
      ]
     },
     "execution_count": 23,
     "metadata": {},
     "output_type": "execute_result"
    }
   ],
   "source": [
    "get_combined_lines(lines)"
   ]
  },
  {
   "cell_type": "code",
   "execution_count": 37,
   "metadata": {
    "scrolled": true
   },
   "outputs": [
    {
     "data": {
      "text/plain": [
       "['\"[28/07/2014, 11:33:30] Tommy turn: Dan you are in great health \"\"You eat tuna and rice 3 meals a day\"']"
      ]
     },
     "execution_count": 37,
     "metadata": {},
     "output_type": "execute_result"
    }
   ],
   "source": [
    "get_combined_lines(lines[-2:])"
   ]
  },
  {
   "cell_type": "markdown",
   "metadata": {},
   "source": [
    "### Run on all the data"
   ]
  },
  {
   "cell_type": "code",
   "execution_count": 42,
   "metadata": {
    "scrolled": false
   },
   "outputs": [
    {
     "name": "stdout",
     "output_type": "stream",
     "text": [
      "[28/06/2014, 19:03:01] Tommy turn changed the subject to “Hideout ”\n",
      "[11/07/2014, 15:45:00] Tommy turn was added\n",
      "[11/07/2014, 15:45:02] You were added\n",
      "[11/07/2014, 15:45:03] Jamie was added\n",
      "[11/07/2014, 15:45:03] Iain was added\n",
      "[11/07/2014, 15:45:03] Edd Rocca was added\n",
      "[11/07/2014, 15:45:04] Bobby was added\n",
      "[11/07/2014, 15:45:04] Ollie was added\n",
      "[11/07/2014, 15:45:04] Charlie Rider was added\n",
      "[11/07/2014, 15:45:04] Huggggo was added\n",
      "[11/07/2014, 15:45:04] Chris Kat was added\n",
      "[11/07/2014, 15:45:04] Adam was added\n",
      "[26/07/2014, 01:01:24] Henry B was added\n",
      "[10/08/2014, 12:02:52] Henry B changed this group's icon\n",
      "[10/08/2014, 19:48:11] Chris Kat changed this group's icon\n",
      "[10/08/2014, 19:52:37] Chris Kat changed this group's icon\n",
      "[10/08/2014, 22:05:16] Tommy turn changed this group's icon\n",
      "[11/08/2014, 21:03:27] Chris Kat changed this group's icon\n",
      "[11/08/2014, 23:20:38] Dommy Fraz was added\n",
      "[11/08/2014, 23:20:38] Chris M was added\n",
      "[12/08/2014, 14:19:49] Tommy turn changed the subject to “.”\n",
      "[14/08/2014, 18:27:57] Charlie Rider was removed\n",
      "[14/08/2014, 18:27:57] Charlie Rider was added\n",
      "[20/08/2014, 09:07:37] Chris Kat changed the subject to “CK's no. is 07943 824759”\n",
      "[20/08/2014, 17:48:38] Tommy turn changed this group's icon\n",
      "[25/08/2014, 18:14:03] Chris Kat changed this group's icon\n",
      "[28/08/2014, 11:06:13] You changed this group's icon\n",
      "[28/08/2014, 11:06:29] You changed the subject to “Thorpes parkers”\n",
      "[28/08/2014, 14:30:41] Bobby changed this group's icon\n",
      "[28/08/2014, 18:09:18] Angus was added\n",
      "[03/09/2014, 13:11:10] Tommy turn changed this group's icon\n",
      "[04/09/2014, 08:34:46] Henry B changed this group's icon\n",
      "[04/09/2014, 20:22:42] You changed this group's icon\n",
      "[05/09/2014, 12:58:04] Henry B changed this group's icon\n",
      "[05/09/2014, 17:23:50] Iain changed this group's icon\n",
      "[05/09/2014, 17:55:31] Chris M changed this group's icon\n",
      "[06/09/2014, 18:42:19] Chris Kat changed this group's icon\n",
      "[07/09/2014, 18:34:59] Tommy turn changed this group's icon\n",
      "[08/09/2014, 16:56:17] Ollie changed this group's icon\n",
      "[08/09/2014, 23:54:21] Tommy turn changed this group's icon\n",
      "[10/09/2014, 17:14:49] Huggggo changed this group's icon\n",
      "[12/09/2014, 11:32:57] Chris Kat changed this group's icon\n",
      "[13/09/2014, 20:55:45] Chris Kat changed this group's icon\n",
      "[22/12/2014, 11:51:38] Henry B changed this group's icon\n",
      "[25/12/2014, 11:33:17] Tommy turn changed this group's icon\n",
      "[28/12/2014, 12:52:08] Ollie changed this group's icon\n",
      "[31/12/2014, 16:45:15] Ollie changed this group's icon\n",
      "[02/01/2015, 11:53:32] You changed this group's icon\n",
      "[07/01/2015, 09:11:07] Ollie changed this group's icon\n",
      "[11/01/2015, 13:46:41] Iain changed this group's icon\n",
      "[17/01/2015, 12:19:41] Dommy Fraz changed this group's icon\n",
      "[22/01/2015, 18:25:07] Chris Kat changed this group's icon\n",
      "[27/01/2015, 15:54:14] Tommy turn changed this group's icon\n",
      "[31/01/2015, 13:27:23] Tommy turn changed this group's icon\n",
      "[04/02/2015, 13:11:16] Dommy Fraz changed this group's icon\n",
      "[06/02/2015, 00:00:57] Ollie changed this group's icon\n",
      "[09/02/2015, 13:50:52] Iain changed this group's icon\n",
      "[13/02/2015, 13:28:49] Ollie changed this group's icon\n",
      "[25/02/2015, 15:59:45] Henry B changed this group's icon\n",
      "[03/03/2015, 16:00:51] Ollie changed this group's icon\n",
      "[07/03/2015, 17:50:18] Henry B changed this group's icon\n",
      "[11/03/2015, 11:37:58] Henry B changed this group's icon\n",
      "[15/03/2015, 16:10:38] You changed this group's icon\n",
      "[19/03/2015, 10:49:08] Henry B changed this group's icon\n",
      "[19/03/2015, 17:23:40] You changed this group's icon\n",
      "[19/03/2015, 23:15:58] Iain changed this group's icon\n",
      "[22/03/2015, 20:39:43] Tommy turn changed this group's icon\n",
      "[24/03/2015, 02:41:30] Ollie changed this group's icon\n",
      "[29/03/2015, 14:27:56] Chris Kat changed this group's icon\n",
      "[02/04/2015, 17:11:08] Tommy turn changed this group's icon\n",
      "[04/04/2015, 01:16:28] You changed this group's icon\n",
      "[09/04/2015, 19:09:12] Henry B changed this group's icon\n",
      "[24/04/2015, 17:38:12] Chris Kat changed this group's icon\n",
      "[25/04/2015, 22:45:04] Tommy turn changed this group's icon\n",
      "[03/05/2015, 10:36:26] Henry B changed this group's icon\n",
      "[08/05/2015, 10:02:54] Tommy turn changed this group's icon\n",
      "[09/05/2015, 21:25:03] You changed this group's icon\n",
      "[12/05/2015, 11:41:11] Iain changed this group's icon\n",
      "[12/05/2015, 12:13:00] Iain changed this group's icon\n",
      "[13/05/2015, 22:39:00] Henry B changed this group's icon\n",
      "[19/05/2015, 18:22:31] Huggggo changed this group's icon\n",
      "[22/05/2015, 22:41:24] You changed this group's icon\n",
      "[23/05/2015, 12:09:32] Ollie changed this group's icon\n",
      "[24/05/2015, 12:54:13] Dommy Fraz deleted this group's icon\n",
      "[24/05/2015, 12:54:27] Dommy Fraz changed this group's icon\n",
      "[25/05/2015, 10:01:51] Henry B changed this group's icon\n",
      "[30/05/2015, 10:04:58] Tommy turn changed this group's icon\n",
      "[01/06/2015, 16:09:23] Edd Rocca changed this group's icon\n",
      "[01/06/2015, 19:42:45] Tommy turn changed this group's icon\n",
      "[05/06/2015, 20:37:25] Henry B changed this group's icon\n",
      "[13/06/2015, 10:36:44] Bobby changed this group's icon\n",
      "[15/06/2015, 13:30:19] Iain changed this group's icon\n",
      "[17/06/2015, 14:41:16] Huggggo changed this group's icon\n",
      "[20/06/2015, 20:18:34] Ollie changed this group's icon\n",
      "[21/06/2015, 11:22:34] You changed this group's icon\n",
      "[23/06/2015, 19:32:50] Chris Kat changed the subject to “Sit Off”\n",
      "[24/06/2015, 17:19:08] Chris Kat changed this group's icon\n",
      "[26/06/2015, 17:22:09] Henry B changed this group's icon\n",
      "[06/07/2015, 17:26:57] Tommy turn changed this group's icon\n",
      "[08/07/2015, 20:46:20] Huggggo changed this group's icon\n",
      "[08/07/2015, 23:52:26] Ollie changed this group's icon\n",
      "[10/07/2015, 14:48:59] Bobby changed this group's icon\n",
      "[17/07/2015, 13:23:37] Ollie changed this group's icon\n",
      "[25/07/2015, 07:39:52] Henry B changed this group's icon\n",
      "[02/08/2015, 15:35:44] You changed this group's icon\n",
      "[17/08/2015, 20:12:46] Huggggo changed this group's icon\n",
      "[22/08/2015, 23:11:56] Huggggo changed this group's icon\n",
      "[26/08/2015, 10:05:18] Chris Kat changed this group's icon\n",
      "[27/08/2015, 11:28:29] Tommy turn removed Dommy Fraz\n",
      "[27/08/2015, 11:30:08] Tommy turn added ‪+44 7792 467965‬\n",
      "[27/08/2015, 11:31:26] ‪+44 7792 467965‬ left\n",
      "[27/08/2015, 11:31:47] Tommy turn added ‪+44 7792 467965‬\n",
      "[27/08/2015, 11:32:24] Tommy turn removed ‪+44 7792 467965‬\n",
      "[27/08/2015, 11:32:46] Tommy turn added Dommy Fraz\n",
      "[27/08/2015, 11:58:56] Bobby deleted this group's icon\n",
      "[27/08/2015, 11:58:59] Dommy Fraz changed this group's icon\n",
      "[28/08/2015, 20:55:20] Tommy turn changed this group's icon\n",
      "[06/09/2015, 18:31:55] Henry B changed this group's icon\n",
      "[09/09/2015, 17:13:01] Ollie changed this group's icon\n",
      "[09/09/2015, 19:03:34] Ollie changed this group's icon\n",
      "[11/09/2015, 11:43:39] Tommy turn changed this group's icon\n",
      "[11/09/2015, 22:58:16] You changed this group's icon\n",
      "[15/09/2015, 00:09:06] Tommy turn changed this group's icon\n",
      "[21/09/2015, 10:31:39] Chris Kat changed this group's icon\n",
      "[26/09/2015, 12:16:17] Bobby changed this group's icon\n",
      "[04/10/2015, 13:21:55] Henry B changed this group's icon\n",
      "[03/11/2015, 11:04:02] Iain changed this group's icon\n",
      "[05/11/2015, 01:03:13] Iain changed this group's icon\n",
      "[12/11/2015, 10:09:51] Henry B changed this group's icon\n",
      "[05/12/2015, 00:02:23] You changed this group's icon\n",
      "[12/12/2015, 00:05:03] Tommy turn changed this group's icon\n",
      "[14/12/2015, 11:17:03] You changed this group's icon\n",
      "[18/12/2015, 01:00:59] Ollie changed this group's icon\n",
      "[19/12/2015, 10:33:59] Henry B changed this group's icon\n",
      "[22/12/2015, 21:54:14] Edd Rocca changed this group's icon\n",
      "[15/01/2016, 19:56:59] Ollie changed this group's icon\n",
      "[19/01/2016, 21:04:12] Iain changed this group's icon\n",
      "[23/01/2016, 10:42:17] Henry B changed this group's icon\n",
      "[20/02/2016, 16:05:56] Tommy turn changed this group's icon\n",
      "[05/03/2016, 13:34:24] Ollie changed this group's icon\n",
      "[15/03/2016, 19:22:22] Chris Kat changed this group's icon\n",
      "[18/03/2016, 10:59:42] Iain changed this group's icon\n",
      "[27/03/2016, 16:49:38] Adam changed this group's icon\n",
      "[08/04/2016, 14:58:48] Huggggo changed this group's icon\n",
      "[13/04/2016, 08:50:25] Henry B changed this group's icon\n",
      "[22/04/2016, 15:38:04] Iain changed this group's icon\n",
      "[30/04/2016, 16:31:11] You changed this group's icon\n",
      "[15/05/2016, 00:12:29] Bobby changed this group's icon\n",
      "[22/05/2016, 10:14:54] Adam changed this group's icon\n",
      "[26/05/2016, 23:41:50] Chris Kat changed this group's icon\n",
      "[30/05/2016, 20:41:51] Chris Kat changed this group's icon\n",
      "[13/06/2016, 11:31:38] Henry B changed this group's icon\n",
      "[24/06/2016, 07:05:35] Henry B changed this group's icon\n",
      "[04/07/2016, 11:01:42] Tommy turn removed Charlie Rider\n",
      "[04/07/2016, 11:05:11] Tommy turn added Charlie Rider\n",
      "[06/07/2016, 10:46:25] Tommy turn changed this group's icon\n",
      "[08/07/2016, 12:20:11] Chris Kat changed this group's icon\n",
      "[12/07/2016, 11:00:22] Tommy turn changed this group's icon\n",
      "[14/07/2016, 10:13:56] Ollie changed this group's icon\n",
      "[19/07/2016, 16:12:30] Tommy turn changed this group's icon\n",
      "[03/08/2016, 11:53:48] Henry B changed this group's icon\n",
      "[09/08/2016, 10:03:47] Adam changed this group's icon\n",
      "[11/08/2016, 19:41:23] Tommy turn changed this group's icon\n",
      "[31/08/2016, 18:37:10] Dommy Fraz changed this group's icon\n",
      "[07/09/2016, 23:09:52] Ollie changed this group's icon\n",
      "[23/09/2016, 19:41:00] Henry B changed this group's icon\n",
      "[10/02/2017, 09:33:20] Chris Kat changed this group's icon\n",
      "[19/03/2017, 03:04:49] Chris Kat changed this group's icon\n",
      "[15/08/2017, 15:45:47] Tommy turn changed this group's icon\n",
      "[05/09/2017, 14:36:37] Tommy turn changed this group's icon\n",
      "[10/09/2017, 20:58:06] Henry B changed this group's icon\n",
      "[07/10/2017, 11:51:59] You changed this group's icon\n",
      "[08/10/2017, 15:11:56] Chris Kat changed this group's icon\n",
      "[10/11/2017, 18:33:49] Henry B changed this group's icon\n",
      "[18/12/2017, 15:09:19] Tommy turn added Bobby 2\n",
      "[31/12/2017, 12:42:26] Edd Rocca changed this group's icon\n",
      "[04/01/2018, 21:34:11] Bobby 2 changed this group's icon\n",
      "[19/03/2018, 17:24:23] Tommy turn changed this group's icon\n",
      "[19/04/2018, 10:31:01] Tommy turn removed Bobby 2\n",
      "[19/04/2018, 17:42:52] Tommy turn added Bobby 2\n",
      "[19/04/2018, 23:12:03] Bobby left\n",
      "[11/06/2018, 22:36:59] Chris Kat changed this group's icon\n",
      "[22/06/2018, 16:48:09] Iain changed this group's icon\n",
      "[17/07/2018, 09:23:10] You changed this group's icon\n",
      "[13/09/2018, 14:49:06] Tommy turn removed Bobby 2\n",
      "[13/09/2018, 17:04:46] Tommy turn added Bobby 2\n",
      "[28/09/2018, 20:45:43] Tommy turn removed Edd Rocca\n",
      "[29/09/2018, 12:20:51] You changed this group's icon\n",
      "[30/09/2018, 21:34:44] Tommy turn added Edd Rocca\n",
      "[02/03/2019, 23:00:04] Edd Rocca changed this group's icon\n",
      "[22/04/2019, 19:38:42] You changed this group's icon\n",
      "[30/04/2019, 22:26:35] Tommy turn removed Bobby 2\n",
      "[03/05/2019, 05:24:22] Tommy turn added Bobby 2\n",
      "[12/05/2019, 12:54:09] Tommy turn changed this group's icon\n",
      "[25/06/2019, 11:00:15] Tommy turn added Bobby 3\n",
      "[12/07/2019, 20:03:36] Bobby 2 left\n",
      "[05/09/2019, 23:02:36] Henry B changed this group's icon\n",
      "[28/10/2019, 18:45:20] Henry B changed this group's icon\n",
      "[13/12/2019, 14:56:58] Henry B changed this group's icon\n",
      "[08/05/2020, 08:40:45] Tommy turn removed Dommy Fraz\n",
      "[08/05/2020, 08:54:17] Tommy turn added Dommy Fraz\n"
     ]
    }
   ],
   "source": [
    "def load_whatsapp_messages_to_dataframe(path_to_messages):\n",
    "    with open(path_to_messages, \"rt\") as f:\n",
    "        lines = f.readlines()\n",
    "    lines = [line.strip()[1:-1] for line in lines]\n",
    "    combined_lines = get_combined_lines(lines) \n",
    "    processed_lines = []\n",
    "    for line in combined_lines:\n",
    "        try:\n",
    "            processed_lines.append(_split_line_into_components(line))\n",
    "        except ValueError:\n",
    "            print(line)\n",
    "    df = pd.DataFrame(processed_lines, columns=[\"date\", \"time\", \"author\", \"message\"])\n",
    "    return df\n",
    "\n",
    "def _split_line_into_components(line):\n",
    "    \"\"\"\n",
    "    It looks like the lines all follow the exact same structure:\n",
    "    [DD/MM/YYYY, HH:MM:SS] NAME: MESSAGE\n",
    "    \"\"\"\n",
    "    date = line[1:11]\n",
    "    time = line[13:21]\n",
    "    date_and_time = line[1:21]\n",
    "    name, message = line[23:].split(\": \", 1)\n",
    "    message = message.strip()\n",
    "    return date, time, name, message\n",
    "\n",
    "\n",
    "df = load_whatsapp_messages_to_dataframe(path)\n",
    "df.to_csv(\"/Users/danieljones/Documents/Codecademy/Data for projects/Sit_Off/Sit_Off_Whatsapp_Data_Processed.csv\", index=False)\n",
    "#\"Sit Off Whatsapp Data.txt\"\n"
   ]
  },
  {
   "cell_type": "code",
   "execution_count": 43,
   "metadata": {},
   "outputs": [
    {
     "data": {
      "text/html": [
       "<div>\n",
       "<style scoped>\n",
       "    .dataframe tbody tr th:only-of-type {\n",
       "        vertical-align: middle;\n",
       "    }\n",
       "\n",
       "    .dataframe tbody tr th {\n",
       "        vertical-align: top;\n",
       "    }\n",
       "\n",
       "    .dataframe thead th {\n",
       "        text-align: right;\n",
       "    }\n",
       "</style>\n",
       "<table border=\"1\" class=\"dataframe\">\n",
       "  <thead>\n",
       "    <tr style=\"text-align: right;\">\n",
       "      <th></th>\n",
       "      <th>date</th>\n",
       "      <th>time</th>\n",
       "      <th>author</th>\n",
       "      <th>message</th>\n",
       "    </tr>\n",
       "  </thead>\n",
       "  <tbody>\n",
       "    <tr>\n",
       "      <th>0</th>\n",
       "      <td>11/07/2014</td>\n",
       "      <td>16:12:19</td>\n",
       "      <td>Charlie Rider</td>\n",
       "      <td>Might make an appearance, me aunts down so mig...</td>\n",
       "    </tr>\n",
       "    <tr>\n",
       "      <th>1</th>\n",
       "      <td>11/07/2014</td>\n",
       "      <td>16:41:17</td>\n",
       "      <td>Adam</td>\n",
       "      <td>Anyone wonna buy this pre workout at all I've ...</td>\n",
       "    </tr>\n",
       "    <tr>\n",
       "      <th>2</th>\n",
       "      <td>11/07/2014</td>\n",
       "      <td>16:41:20</td>\n",
       "      <td>Adam</td>\n",
       "      <td>image omitted</td>\n",
       "    </tr>\n",
       "    <tr>\n",
       "      <th>3</th>\n",
       "      <td>11/07/2014</td>\n",
       "      <td>16:45:33</td>\n",
       "      <td>Dan Jones</td>\n",
       "      <td>image omitted</td>\n",
       "    </tr>\n",
       "    <tr>\n",
       "      <th>4</th>\n",
       "      <td>11/07/2014</td>\n",
       "      <td>16:47:43</td>\n",
       "      <td>Dan Jones</td>\n",
       "      <td>Thanks for the belated add tom lol but i misse...</td>\n",
       "    </tr>\n",
       "    <tr>\n",
       "      <th>...</th>\n",
       "      <td>...</td>\n",
       "      <td>...</td>\n",
       "      <td>...</td>\n",
       "      <td>...</td>\n",
       "    </tr>\n",
       "    <tr>\n",
       "      <th>44772</th>\n",
       "      <td>16/06/2020</td>\n",
       "      <td>13:04:45</td>\n",
       "      <td>Dan Jones</td>\n",
       "      <td>HB Goooooosage!</td>\n",
       "    </tr>\n",
       "    <tr>\n",
       "      <th>44773</th>\n",
       "      <td>16/06/2020</td>\n",
       "      <td>13:04:52</td>\n",
       "      <td>Charlie Rider</td>\n",
       "      <td>Happy birthday hardy!!</td>\n",
       "    </tr>\n",
       "    <tr>\n",
       "      <th>44774</th>\n",
       "      <td>16/06/2020</td>\n",
       "      <td>13:05:00</td>\n",
       "      <td>Adam</td>\n",
       "      <td>Harrrddyyyyyy HBD!!</td>\n",
       "    </tr>\n",
       "    <tr>\n",
       "      <th>44775</th>\n",
       "      <td>16/06/2020</td>\n",
       "      <td>13:42:54</td>\n",
       "      <td>Jamie</td>\n",
       "      <td>Happy birthday mateeee</td>\n",
       "    </tr>\n",
       "    <tr>\n",
       "      <th>44776</th>\n",
       "      <td>16/06/2020</td>\n",
       "      <td>14:06:53</td>\n",
       "      <td>Dommy Fraz</td>\n",
       "      <td>Happy birthday Hardman!! x</td>\n",
       "    </tr>\n",
       "  </tbody>\n",
       "</table>\n",
       "<p>44777 rows × 4 columns</p>\n",
       "</div>"
      ],
      "text/plain": [
       "             date      time         author  \\\n",
       "0      11/07/2014  16:12:19  Charlie Rider   \n",
       "1      11/07/2014  16:41:17           Adam   \n",
       "2      11/07/2014  16:41:20           Adam   \n",
       "3      11/07/2014  16:45:33      Dan Jones   \n",
       "4      11/07/2014  16:47:43      Dan Jones   \n",
       "...           ...       ...            ...   \n",
       "44772  16/06/2020  13:04:45      Dan Jones   \n",
       "44773  16/06/2020  13:04:52  Charlie Rider   \n",
       "44774  16/06/2020  13:05:00           Adam   \n",
       "44775  16/06/2020  13:42:54          Jamie   \n",
       "44776  16/06/2020  14:06:53     Dommy Fraz   \n",
       "\n",
       "                                                 message  \n",
       "0      Might make an appearance, me aunts down so mig...  \n",
       "1      Anyone wonna buy this pre workout at all I've ...  \n",
       "2                                          image omitted  \n",
       "3                                          image omitted  \n",
       "4      Thanks for the belated add tom lol but i misse...  \n",
       "...                                                  ...  \n",
       "44772                                    HB Goooooosage!  \n",
       "44773                             Happy birthday hardy!!  \n",
       "44774                                Harrrddyyyyyy HBD!!  \n",
       "44775                             Happy birthday mateeee  \n",
       "44776                         Happy birthday Hardman!! x  \n",
       "\n",
       "[44777 rows x 4 columns]"
      ]
     },
     "execution_count": 43,
     "metadata": {},
     "output_type": "execute_result"
    }
   ],
   "source": [
    "df"
   ]
  },
  {
   "cell_type": "code",
   "execution_count": null,
   "metadata": {},
   "outputs": [],
   "source": []
  }
 ],
 "metadata": {
  "kernelspec": {
   "display_name": "Python 3",
   "language": "python",
   "name": "python3"
  },
  "language_info": {
   "codemirror_mode": {
    "name": "ipython",
    "version": 3
   },
   "file_extension": ".py",
   "mimetype": "text/x-python",
   "name": "python",
   "nbconvert_exporter": "python",
   "pygments_lexer": "ipython3",
   "version": "3.7.6"
  }
 },
 "nbformat": 4,
 "nbformat_minor": 4
}
